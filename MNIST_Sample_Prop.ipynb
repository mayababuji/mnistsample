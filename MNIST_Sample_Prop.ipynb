{
 "cells": [
  {
   "cell_type": "markdown",
   "metadata": {
    "collapsed": true
   },
   "source": [
    "## MNIST Digit Classification with Single Layer Deep Learning Network\n",
    "The MNIST is an Image Processing dataset, which consists a large set of handwritten digit data.  It is one of the most popular datasets among Machine Learning students and Researchers. The current assignment is an attempt to build a single layer Deep Learning Network to recognize handwritten digits using the MNIST data.\n",
    "URL for the data http://yann.lecun.com/exdb/mnist/\n",
    "\n",
    "#### Setting the Environment\n",
    "The assignment is completed with Keras with Tensorflowback-end, tested in both CPU and GPU."
   ]
  },
  {
   "cell_type": "code",
   "execution_count": 1,
   "metadata": {
    "collapsed": false
   },
   "outputs": [
    {
     "name": "stderr",
     "output_type": "stream",
     "text": [
      "Using TensorFlow backend.\n"
     ]
    }
   ],
   "source": [
    "%matplotlib inline\n",
    "from matplotlib import pyplot as plt\n",
    "import matplotlib as mpl\n",
    "import numpy as np\n",
    "from keras.datasets import mnist\n",
    "from keras.models import Sequential\n",
    "from keras.layers import Dense\n",
    "from keras.layers import Dropout\n",
    "from keras.layers import Flatten\n",
    "from keras.layers.convolutional import Conv2D\n",
    "from keras.layers.convolutional import MaxPooling2D\n",
    "from keras.utils import to_categorical\n",
    "from keras import backend as K\n",
    "K.set_image_dim_ordering('tf')"
   ]
  },
  {
   "cell_type": "code",
   "execution_count": 2,
   "metadata": {
    "collapsed": false
   },
   "outputs": [],
   "source": [
    "np.random.seed(1983)"
   ]
  },
  {
   "cell_type": "markdown",
   "metadata": {},
   "source": [
    "#### Load the Data \n",
    "The data is loaded from https://s3.amazonaws.com/img-datasets/mnist.npz\n",
    "It can be later changed to an offline data reading too."
   ]
  },
  {
   "cell_type": "code",
   "execution_count": 3,
   "metadata": {
    "collapsed": false
   },
   "outputs": [],
   "source": [
    "(X_train, y_train), (X_test, y_test) = mnist.load_data()"
   ]
  },
  {
   "cell_type": "code",
   "execution_count": 4,
   "metadata": {
    "collapsed": true
   },
   "outputs": [],
   "source": [
    "def plot_data(image):\n",
    "    \"\"\"\n",
    "    Plot the sample image\n",
    "    :param image: numpy ndarry\n",
    "    \"\"\"\n",
    "    fig = plt.figure()\n",
    "    ax = fig.add_subplot(1,1,1)\n",
    "    imgplot = ax.imshow(image, cmap=mpl.cm.Greys)\n",
    "    imgplot.set_interpolation('nearest')\n",
    "    ax.xaxis.set_ticks_position('top')\n",
    "    ax.yaxis.set_ticks_position('left')\n",
    "    plt.show()"
   ]
  },
  {
   "cell_type": "code",
   "execution_count": 5,
   "metadata": {
    "collapsed": false
   },
   "outputs": [
    {
     "data": {
      "image/png": "[encoded data removed]",
      "text/plain": [
       "<matplotlib.figure.Figure at 0x112ae3908>"
      ]
     },
     "metadata": {},
     "output_type": "display_data"
    }
   ],
   "source": [
    "plot_data(X_train[100])"
   ]
  },
  {
   "cell_type": "code",
   "execution_count": 6,
   "metadata": {
    "collapsed": true
   },
   "outputs": [],
   "source": [
    "reshape_dim = X_train.shape[1] * X_train.shape[2] #Value for reshapping the data"
   ]
  },
  {
   "cell_type": "code",
   "execution_count": 7,
   "metadata": {
    "collapsed": false
   },
   "outputs": [],
   "source": [
    "num_classes = 10"
   ]
  },
  {
   "cell_type": "code",
   "execution_count": 8,
   "metadata": {
    "collapsed": true
   },
   "outputs": [],
   "source": [
    "def preprocess(data,labels,flatten_val):\n",
    "    \"\"\"\n",
    "    Function to preprocess the data\n",
    "    :param data: numpy nd array containing the image data\n",
    "    :param labels: numpy nd array contaoning the data\n",
    "    :param flatten_val: int value for flattening the data\n",
    "    :returns result: dictionary containing preprocessed data and results\n",
    "    The input images will be normalised - pixel values to the range 0 and 1\n",
    "    The lanles will be encoded using the one-hot encoding technique.\n",
    "    \"\"\"\n",
    "    data = data.reshape(data.shape[0], flatten_val).astype('float32')\n",
    "    data = data / 255\n",
    "    labels = to_categorical(labels,10)\n",
    "    \n",
    "    result = {\"X\": data,\"y\": labels}\n",
    "    return result"
   ]
  },
  {
   "cell_type": "code",
   "execution_count": 9,
   "metadata": {
    "collapsed": true
   },
   "outputs": [],
   "source": [
    "def basemodel():\n",
    "    \"\"\"\n",
    "    Creating Signle Layer Model\n",
    "    \"\"\"\n",
    "    model = Sequential()\n",
    "    model.add(Dense(reshape_dim, input_dim=reshape_dim, kernel_initializer='normal', activation='relu'))\n",
    "    model.add(Dense(num_classes, kernel_initializer='normal', activation='softmax'))\n",
    "    model.compile(loss='categorical_crossentropy', optimizer='adam', metrics=['accuracy'])\n",
    "    return model"
   ]
  },
  {
   "cell_type": "markdown",
   "metadata": {},
   "source": [
    "#### Preprocess the Data"
   ]
  },
  {
   "cell_type": "code",
   "execution_count": 10,
   "metadata": {
    "collapsed": false
   },
   "outputs": [],
   "source": [
    "train_data = preprocess(X_train,y_train,reshape_dim)\n",
    "test_data = preprocess(X_test,y_test,reshape_dim)"
   ]
  },
  {
   "cell_type": "markdown",
   "metadata": {},
   "source": [
    "#### Building the Model\n",
    "The model is built from the training data only. 20% of the training data is used as validation. So we can use the test data expicitly for eveluating the final model. Also we are perfoming datashuffle before the training happens."
   ]
  },
  {
   "cell_type": "code",
   "execution_count": 11,
   "metadata": {
    "collapsed": false
   },
   "outputs": [
    {
     "name": "stdout",
     "output_type": "stream",
     "text": [
      "Train on 48000 samples, validate on 12000 samples\n",
      "Epoch 1/10\n",
      "3s - loss: 0.3106 - acc: 0.9118 - val_loss: 0.1586 - val_acc: 0.9549\n",
      "Epoch 2/10\n",
      "2s - loss: 0.1250 - acc: 0.9640 - val_loss: 0.1176 - val_acc: 0.9653\n",
      "Epoch 3/10\n",
      "2s - loss: 0.0826 - acc: 0.9766 - val_loss: 0.0933 - val_acc: 0.9714\n",
      "Epoch 4/10\n",
      "3s - loss: 0.0573 - acc: 0.9840 - val_loss: 0.0882 - val_acc: 0.9732\n",
      "Epoch 5/10\n",
      "2s - loss: 0.0418 - acc: 0.9887 - val_loss: 0.0765 - val_acc: 0.9770\n",
      "Epoch 6/10\n",
      "2s - loss: 0.0300 - acc: 0.9925 - val_loss: 0.0749 - val_acc: 0.9779\n",
      "Epoch 7/10\n",
      "3s - loss: 0.0229 - acc: 0.9944 - val_loss: 0.0736 - val_acc: 0.9786\n",
      "Epoch 8/10\n",
      "3s - loss: 0.0175 - acc: 0.9958 - val_loss: 0.0689 - val_acc: 0.9796\n",
      "Epoch 9/10\n",
      "2s - loss: 0.0117 - acc: 0.9979 - val_loss: 0.0694 - val_acc: 0.9783\n",
      "Epoch 10/10\n",
      "2s - loss: 0.0088 - acc: 0.9985 - val_loss: 0.0730 - val_acc: 0.9789\n"
     ]
    }
   ],
   "source": [
    "model = basemodel()\n",
    "\n",
    "model_hist = model.fit(train_data[\"X\"], train_data[\"y\"], \\\n",
    "validation_split=0.2,shuffle = True, \\\n",
    "epochs=10, batch_size=200, verbose=2)\n",
    "\n",
    "scores = model.evaluate(test_data[\"X\"], test_data[\"y\"], verbose=0)"
   ]
  },
  {
   "cell_type": "markdown",
   "metadata": {},
   "source": [
    "#### Plot the Model Training Performance"
   ]
  },
  {
   "cell_type": "code",
   "execution_count": 12,
   "metadata": {
    "collapsed": false
   },
   "outputs": [
    {
     "data": {
      "text/plain": [
       "<matplotlib.text.Text at 0x11a5fa9b0>"
      ]
     },
     "execution_count": 12,
     "metadata": {},
     "output_type": "execute_result"
    },
    {
     "data": {
      "image/png": "[encoded data removed]",
      "text/plain": [
       "<matplotlib.figure.Figure at 0x116206198>"
      ]
     },
     "metadata": {},
     "output_type": "display_data"
    }
   ],
   "source": [
    "plt.plot(model_hist.history[\"acc\"])\n",
    "plt.plot(model_hist.history[\"val_acc\"])\n",
    "plt.xlabel(\"Epoch\")\n",
    "plt.ylabel(\"Accuracy\")\n",
    "plt.title(\"Model Training Performance\")"
   ]
  },
  {
   "cell_type": "markdown",
   "metadata": {},
   "source": [
    "#### Get the Baseline Error"
   ]
  },
  {
   "cell_type": "code",
   "execution_count": 13,
   "metadata": {
    "collapsed": false
   },
   "outputs": [
    {
     "name": "stdout",
     "output_type": "stream",
     "text": [
      "Baseline Error: 1.89%\n"
     ]
    }
   ],
   "source": [
    "print(\"Baseline Error: %.2f%%\" % (100-scores[1]*100))"
   ]
  }
 ],
 "metadata": {
  "kernelspec": {
   "display_name": "Python 3",
   "language": "python",
   "name": "python3"
  },
  "language_info": {
   "codemirror_mode": {
    "name": "ipython",
    "version": 3
   },
   "file_extension": ".py",
   "mimetype": "text/x-python",
   "name": "python",
   "nbconvert_exporter": "python",
   "pygments_lexer": "ipython3",
   "version": "3.5.2"
  },
  "widgets": {
   "state": {},
   "version": "1.1.2"
  }
 },
 "nbformat": 4,
 "nbformat_minor": 2
}
